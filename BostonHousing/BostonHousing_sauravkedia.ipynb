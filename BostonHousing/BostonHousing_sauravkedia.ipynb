{
 "cells": [
  {
   "cell_type": "code",
   "execution_count": null,
   "metadata": {
    "collapsed": true
   },
   "outputs": [],
   "source": [
    "# Hello Friends!\n",
    "\n",
    "# Let us Load essential libraries\n",
    "import pandas as pd\n",
    "import numpy as np\n",
    "import os\n",
    "import matplotlib.pyplot as plt\n",
    "import seaborn as sns\n",
    "%matplotlib inline"
   ]
  },
  {
   "cell_type": "code",
   "execution_count": null,
   "metadata": {
    "collapsed": false
   },
   "outputs": [],
   "source": [
    "\n",
    "# Problem Description:\n",
    "#    1. The median housing prices of various towns inside Boston is to be predicted\n",
    "#       by using the given predictor variables.\n",
    "       \n"
   ]
  },
  {
   "cell_type": "code",
   "execution_count": null,
   "metadata": {
    "collapsed": false
   },
   "outputs": [],
   "source": [
    "#%% Read the data and look at colums\n",
    "train = pd.read_csv('train.csv')\n",
    "test = pd.read_csv('test.csv')\n",
    "print (\"Train file...\")\n",
    "train.head()"
   ]
  },
  {
   "cell_type": "code",
   "execution_count": null,
   "metadata": {
    "collapsed": false
   },
   "outputs": [],
   "source": [
    "print (\"\\nTestfile...\")\n",
    "test.head()"
   ]
  },
  {
   "cell_type": "code",
   "execution_count": null,
   "metadata": {
    "collapsed": false
   },
   "outputs": [],
   "source": [
    "# lets find missing values\n",
    "\n",
    "train.info()"
   ]
  },
  {
   "cell_type": "code",
   "execution_count": null,
   "metadata": {
    "collapsed": false
   },
   "outputs": [],
   "source": [
    "# Hurrah! no missing values. Doesnt mean no incorrect values though!\n",
    "# What about test data\n",
    "test.info()"
   ]
  },
  {
   "cell_type": "code",
   "execution_count": null,
   "metadata": {
    "collapsed": false
   },
   "outputs": [],
   "source": [
    "# Lets just have a look at basic data properties\n",
    "train.describe()"
   ]
  },
  {
   "cell_type": "code",
   "execution_count": null,
   "metadata": {
    "collapsed": true
   },
   "outputs": [],
   "source": [
    "# Looks like all are continuous variables apart from chas.\n",
    "# Want to make sure ID  represents the town id. Has to as it not defined in the Kaggle dataset description.Still!"
   ]
  },
  {
   "cell_type": "code",
   "execution_count": null,
   "metadata": {
    "collapsed": false
   },
   "outputs": [],
   "source": [
    "# If Id values in train are all unqiue\n",
    "print (\"Are all values in ID in train file unique? %s\"% (\n",
    "                                len(train.ID.unique()) == len(train)))\n",
    "  \n",
    "# If Id values in test are all unqiue\n",
    "print (\"Are all values in ID in test file unique? %s\"% (\n",
    "                                len(test.ID.unique()) == len(test)))\n",
    "\n",
    "# if No Id values in train present in test?\n",
    "\n",
    "trainintest = [id1 for id1 in train.ID.values if id1 in test.ID.values ]\n",
    "print (\"No of items of ID in train in test? %s\"% (\n",
    "                                len(trainintest)))\n",
    "\n",
    "\n",
    "testintrain = [id1 for id1 in test.ID.values if id1 in train.ID.values ]\n",
    "print (\"No of items of ID in test in train? %s\"% (\n",
    "                                len(testintrain)))\n"
   ]
  },
  {
   "cell_type": "code",
   "execution_count": null,
   "metadata": {
    "collapsed": true
   },
   "outputs": [],
   "source": [
    "# So, all values in ID are unqiue and we are 100% certain that the represent\n",
    "# town id.  Since this is just an identifier and of no use in prediction, \n",
    "# we will drop it.\n",
    "\n",
    "train.drop('ID', axis = 1, inplace = 1)"
   ]
  },
  {
   "cell_type": "code",
   "execution_count": null,
   "metadata": {
    "collapsed": false
   },
   "outputs": [],
   "source": [
    "# I dont understand the black variable. The formula 1000(Bk - 0.63)^2 is too complicated to intitutively understand it.\n",
    "# Hence decoding it.\n",
    "\n",
    "trainblack = pd.DataFrame({})\n",
    "trainblack['given'] = train['black']\n",
    "trainblack['decoded'] = 0.63 - np.sqrt(trainblack/1000) # assumes max black ratio is 0.63\n",
    "sns.regplot(x = \"given\", y = \"decoded\", fit_reg = False, data = trainblack)\n",
    "\n"
   ]
  },
  {
   "cell_type": "code",
   "execution_count": null,
   "metadata": {
    "collapsed": false
   },
   "outputs": [],
   "source": [
    "# We will assume inverse linear relationship.\n",
    "# So a Low black value in train means high black population and vice versa\n",
    "del trainblack"
   ]
  },
  {
   "cell_type": "code",
   "execution_count": null,
   "metadata": {
    "collapsed": true
   },
   "outputs": [],
   "source": [
    "# functiont to plot scatterplots of all independent variables with dependent variables\n",
    "\n",
    "def scattermatrix(df):\n",
    "\n",
    "    f, ax1= plt.subplots(4,4, sharey = True,figsize = (20,20) )\n",
    "\n",
    "    count = 0\n",
    "    for i in np.arange(4):\n",
    "        for j in np.arange(4):\n",
    "            try: \n",
    "                sns.set_context(font_scale = 10)\n",
    "                sns.regplot(df[df.columns[count]], df.medv, ax = ax1[i,j])\n",
    "                count = count + 1\n",
    "            except IndexError:\n",
    "                pass\n",
    "    plt.subplots_adjust(left = 0.01, right = .99, bottom = 0.12, top = 0.90,\n",
    "                                wspace = .10, hspace = .12)  \n",
    "\n",
    "\n",
    "    return "
   ]
  },
  {
   "cell_type": "code",
   "execution_count": null,
   "metadata": {
    "collapsed": false
   },
   "outputs": [],
   "source": [
    "# Lets check the scatterplot of all independent variables with dependent variables\n",
    "scattermatrix (train)"
   ]
  },
  {
   "cell_type": "code",
   "execution_count": null,
   "metadata": {
    "collapsed": true
   },
   "outputs": [],
   "source": [
    "# Hang on. We will look at relationships. But there is something intriguing which i want to look at before.\n",
    "# Look at the vertical bars in rad, tax, ptratio, zn, indus. They seem related. Lets explore it."
   ]
  },
  {
   "cell_type": "code",
   "execution_count": null,
   "metadata": {
    "collapsed": false
   },
   "outputs": [],
   "source": [
    "# Easy way to extract the data is rad> 20\n",
    "\n",
    "train_intriguing = train[train.rad > 15]\n",
    "fig2= scattermatrix (train_intriguing)\n",
    "fig2"
   ]
  },
  {
   "cell_type": "code",
   "execution_count": null,
   "metadata": {
    "collapsed": true
   },
   "outputs": [],
   "source": [
    "# Ayela! zn, indus, rad, tax, ptratio same to same. Wat Lag gayi mamu!\n",
    "# Whats happening:\n",
    "#    1. Same Broad locatlity: No: then dis would be same.\n",
    "#    2. Data Error! Yes: looks like\n",
    "\n",
    "# Solutions: ????\n",
    "#    1. Mark them as missing value and repopulate? \n",
    "#    2. If yes, then what if error propagates in test set?\n",
    "#    3. Ignore them?  Can't. a few like zn, ptratio etc has some predictive powers."
   ]
  },
  {
   "cell_type": "code",
   "execution_count": null,
   "metadata": {
    "collapsed": true
   },
   "outputs": [],
   "source": [
    "# Lets focus back on relationships and if we have a problem of multicollinearity"
   ]
  },
  {
   "cell_type": "code",
   "execution_count": null,
   "metadata": {
    "collapsed": true
   },
   "outputs": [],
   "source": [
    "# I want firt look at the problem of multicolinerity. \n",
    "# I have a perfect test in mind. Visual test!!!  "
   ]
  },
  {
   "cell_type": "code",
   "execution_count": null,
   "metadata": {
    "collapsed": false
   },
   "outputs": [],
   "source": [
    "sns.pairplot(train)"
   ]
  },
  {
   "cell_type": "code",
   "execution_count": null,
   "metadata": {
    "collapsed": true
   },
   "outputs": [],
   "source": [
    "# I know too messy!\n",
    "# Some of correlated vatiables I could find are:\n",
    "# nox, dis\n",
    "# rm, lstat\n",
    "# age, dis\n",
    "\n",
    "# Lets see each of them"
   ]
  },
  {
   "cell_type": "code",
   "execution_count": null,
   "metadata": {
    "collapsed": false
   },
   "outputs": [],
   "source": [
    "# nox, dis\n",
    "sns.regplot (\"nox\", \"dis\", data = train)"
   ]
  },
  {
   "cell_type": "code",
   "execution_count": null,
   "metadata": {
    "collapsed": false
   },
   "outputs": [],
   "source": [
    "# rm, lstat\n",
    "sns.regplot (\"rm\", \"lstat\", data = train)"
   ]
  },
  {
   "cell_type": "code",
   "execution_count": null,
   "metadata": {
    "collapsed": false
   },
   "outputs": [],
   "source": [
    "# age, dis\n",
    "sns.regplot (\"age\", \"dis\", data = train)"
   ]
  },
  {
   "cell_type": "code",
   "execution_count": null,
   "metadata": {
    "collapsed": true
   },
   "outputs": [],
   "source": [
    "# Think we should drop one  of nox, dis , while retain other two."
   ]
  },
  {
   "cell_type": "code",
   "execution_count": null,
   "metadata": {
    "collapsed": false
   },
   "outputs": [],
   "source": [
    "\n",
    "sns.regplot(\"nox\", \"medv\", data = train)\n"
   ]
  },
  {
   "cell_type": "code",
   "execution_count": null,
   "metadata": {
    "collapsed": false
   },
   "outputs": [],
   "source": [
    "sns.regplot(\"dis\", \"medv\", data = train)\n"
   ]
  },
  {
   "cell_type": "code",
   "execution_count": null,
   "metadata": {
    "collapsed": false
   },
   "outputs": [],
   "source": [
    "#  dis is more cattered so will drop it.\n",
    "train.drop('dis', axis =1, inplace = True)"
   ]
  },
  {
   "cell_type": "code",
   "execution_count": null,
   "metadata": {
    "collapsed": false
   },
   "outputs": [],
   "source": [
    "# One more graph for your biased, intolerant people!\n",
    "sns.regplot(\"crim\", \"black\", data = train)\n"
   ]
  },
  {
   "cell_type": "code",
   "execution_count": null,
   "metadata": {
    "collapsed": true
   },
   "outputs": [],
   "source": [
    "# Sorry to diappoint, but absolutely no relationship! Boston is crimefree and also blackfree!"
   ]
  },
  {
   "cell_type": "code",
   "execution_count": null,
   "metadata": {
    "collapsed": false
   },
   "outputs": [],
   "source": [
    "# Now lets check our scattermatix once again!!\n",
    "fig = scattermatrix (train)\n",
    "fig"
   ]
  },
  {
   "cell_type": "code",
   "execution_count": null,
   "metadata": {
    "collapsed": false
   },
   "outputs": [],
   "source": [
    "# rad and tax look irrelevant. So remove\n",
    "train.drop(['rad', 'tax'], axis = 1, inplace = 1)"
   ]
  },
  {
   "cell_type": "code",
   "execution_count": null,
   "metadata": {
    "collapsed": false
   },
   "outputs": [],
   "source": [
    "# lets replot\n",
    "scattermatrix(train)"
   ]
  },
  {
   "cell_type": "code",
   "execution_count": null,
   "metadata": {
    "collapsed": false
   },
   "outputs": [],
   "source": [
    "# I think it looks good now!!\n",
    "predictors = ['crim', 'zn', 'indus', 'chas', 'nox', 'rm', 'age', 'ptratio', 'black','lstat']              "
   ]
  },
  {
   "cell_type": "code",
   "execution_count": null,
   "metadata": {
    "collapsed": false
   },
   "outputs": [],
   "source": [
    "from sklearn import linear_model\n",
    "from sklearn.ensemble import RandomForestRegressor\n",
    "from sklearn import cross_validation\n",
    "Y_train = np.asarray(train['medv'], dtype=\"|S6\")"
   ]
  },
  {
   "cell_type": "code",
   "execution_count": null,
   "metadata": {
    "collapsed": false
   },
   "outputs": [],
   "source": [
    "from sklearn import linear_model\n",
    "scores = cross_validation.cross_val_score(\n",
    "    alg,\n",
    "    train[predictors].values,\n",
    "    Y_train)\n",
    "print (scores.mean())"
   ]
  },
  {
   "cell_type": "code",
   "execution_count": null,
   "metadata": {
    "collapsed": false
   },
   "outputs": [],
   "source": [
    "\n",
    "rf  = RandomForestRegressor()\n",
    "\n",
    "scores = cross_validation.cross_val_score(\n",
    "    rf,\n",
    "    train[predictors].values,\n",
    "    Y_train)\n",
    "\n",
    "print (scores.mean())"
   ]
  },
  {
   "cell_type": "code",
   "execution_count": null,
   "metadata": {
    "collapsed": false
   },
   "outputs": [],
   "source": []
  }
 ],
 "metadata": {
  "kernelspec": {
   "display_name": "Python 3",
   "language": "python",
   "name": "python3"
  },
  "language_info": {
   "codemirror_mode": {
    "name": "ipython",
    "version": 3
   },
   "file_extension": ".py",
   "mimetype": "text/x-python",
   "name": "python",
   "nbconvert_exporter": "python",
   "pygments_lexer": "ipython3",
   "version": "3.5.2"
  }
 },
 "nbformat": 4,
 "nbformat_minor": 1
}
